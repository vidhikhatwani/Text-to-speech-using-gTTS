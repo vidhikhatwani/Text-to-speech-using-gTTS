{
 "cells": [
  {
   "cell_type": "code",
   "execution_count": 66,
   "id": "a3be4dde",
   "metadata": {},
   "outputs": [
    {
     "name": "stdout",
     "output_type": "stream",
     "text": [
      "Requirement already satisfied: gTTS in c:\\users\\vidhi khatwani\\anaconda3\\lib\\site-packages (2.2.4)\n",
      "Requirement already satisfied: six in c:\\users\\vidhi khatwani\\anaconda3\\lib\\site-packages (from gTTS) (1.15.0)\n",
      "Requirement already satisfied: requests in c:\\users\\vidhi khatwani\\anaconda3\\lib\\site-packages (from gTTS) (2.25.1)\n",
      "Requirement already satisfied: click in c:\\users\\vidhi khatwani\\anaconda3\\lib\\site-packages (from gTTS) (7.1.2)\n",
      "Requirement already satisfied: certifi>=2017.4.17 in c:\\users\\vidhi khatwani\\anaconda3\\lib\\site-packages (from requests->gTTS) (2020.12.5)\n",
      "Requirement already satisfied: chardet<5,>=3.0.2 in c:\\users\\vidhi khatwani\\anaconda3\\lib\\site-packages (from requests->gTTS) (4.0.0)\n",
      "Requirement already satisfied: urllib3<1.27,>=1.21.1 in c:\\users\\vidhi khatwani\\anaconda3\\lib\\site-packages (from requests->gTTS) (1.26.4)\n",
      "Requirement already satisfied: idna<3,>=2.5 in c:\\users\\vidhi khatwani\\anaconda3\\lib\\site-packages (from requests->gTTS) (2.10)\n"
     ]
    }
   ],
   "source": [
    "#gTTS: Google Text To Speech\n",
    "!pip install gTTS"
   ]
  },
  {
   "cell_type": "code",
   "execution_count": 67,
   "id": "0f570242",
   "metadata": {},
   "outputs": [
    {
     "name": "stdout",
     "output_type": "stream",
     "text": [
      "Requirement already satisfied: playsound==1.2.2 in c:\\users\\vidhi khatwani\\anaconda3\\lib\\site-packages (1.2.2)\n"
     ]
    }
   ],
   "source": [
    "#to play audio files\n",
    "!pip install playsound==1.2.2"
   ]
  },
  {
   "cell_type": "code",
   "execution_count": 68,
   "id": "abba69f8",
   "metadata": {},
   "outputs": [],
   "source": [
    "from gtts import gTTS\n",
    "from playsound import playsound"
   ]
  },
  {
   "cell_type": "code",
   "execution_count": 69,
   "id": "728d8217",
   "metadata": {},
   "outputs": [
    {
     "name": "stdout",
     "output_type": "stream",
     "text": [
      "Enter Text to be converted: Hello World! What's up? Take Care! Goodbye!\n"
     ]
    }
   ],
   "source": [
    "ans=input(\"Enter Text to be converted: \")"
   ]
  },
  {
   "cell_type": "code",
   "execution_count": 70,
   "id": "689d5ff1",
   "metadata": {},
   "outputs": [],
   "source": [
    "language = 'en'\n",
    "tts=gTTS(text=ans, lang = language, slow = False)"
   ]
  },
  {
   "cell_type": "code",
   "execution_count": 71,
   "id": "12c78b16",
   "metadata": {},
   "outputs": [],
   "source": [
    "#saves the converted file at the same folder as the notebook\n",
    "tts.save(\"helloworldTTS.mp3\")"
   ]
  },
  {
   "cell_type": "code",
   "execution_count": 72,
   "id": "195ed52c",
   "metadata": {},
   "outputs": [],
   "source": [
    "playsound(\"helloworldTTS.mp3\")"
   ]
  }
 ],
 "metadata": {
  "kernelspec": {
   "display_name": "Python 3",
   "language": "python",
   "name": "python3"
  },
  "language_info": {
   "codemirror_mode": {
    "name": "ipython",
    "version": 3
   },
   "file_extension": ".py",
   "mimetype": "text/x-python",
   "name": "python",
   "nbconvert_exporter": "python",
   "pygments_lexer": "ipython3",
   "version": "3.8.8"
  }
 },
 "nbformat": 4,
 "nbformat_minor": 5
}
